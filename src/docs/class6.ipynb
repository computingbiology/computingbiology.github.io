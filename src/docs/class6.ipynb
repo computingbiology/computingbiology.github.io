{
 "cells": [
  {
   "cell_type": "code",
   "execution_count": 1,
   "id": "dfea3406",
   "metadata": {},
   "outputs": [],
   "source": [
    "def simpleMatch(a, b):\n",
    "    return 1 if a == b else -1\n",
    "\n",
    "def distanceMatch(a, b):\n",
    "    return 0 if a == b else -1\n",
    "\n",
    "def linearGap(n):\n",
    "    return -1 * n\n",
    "\n",
    "def alignmentScore(s1, s2, gapPenalty, match):\n",
    "    if not s1 or not s2:\n",
    "        return gapPenalty(len(s1)) + gapPenalty(len(s2))\n",
    "    else:\n",
    "        return max(gapPenalty(1) + alignmentScore(s1, s2[1:], gapPenalty, match), \n",
    "                   gapPenalty(1) + alignmentScore(s1[1:], s2, gapPenalty, match),\n",
    "                   match(s1[0], s2[0]) + alignmentScore(s1[1:], s2[1:], gapPenalty, match)) "
   ]
  },
  {
   "cell_type": "code",
   "execution_count": null,
   "id": "969e88f6",
   "metadata": {},
   "outputs": [],
   "source": [
    "alignmentScore(\"ATG\", \"GACT\", linearGap, simpleMatch)"
   ]
  },
  {
   "cell_type": "code",
   "execution_count": null,
   "id": "e2b7c059",
   "metadata": {},
   "outputs": [],
   "source": [
    "alignmentScore(\"ATG\", \"GACT\", lambda n: -1 * n, lambda a, b: 1 if a == b else -1)"
   ]
  },
  {
   "cell_type": "code",
   "execution_count": null,
   "id": "19638aa8",
   "metadata": {},
   "outputs": [],
   "source": [
    "alignmentScore(\"ATG\", \"GACT\", lambda n: 0, lambda a, b: 1 if a == b else 0)"
   ]
  },
  {
   "cell_type": "code",
   "execution_count": 2,
   "id": "2ab307d6",
   "metadata": {},
   "outputs": [],
   "source": [
    "def alignmentScoreOutput(s1, s2, gapPenalty, match):\n",
    "    if not s1 or not s2:\n",
    "        return (s1 + '-' * len(s2), s2 + '-' * len(s1), \n",
    "                gapPenalty(len(s1)) + gapPenalty(len(s2)))\n",
    "    else:\n",
    "        s1d, s2d, dd = alignmentScoreOutput(s1, s2[1:], gapPenalty, match)\n",
    "        dd += gapPenalty(1)\n",
    "        s1i, s2i, di = alignmentScoreOutput(s1[1:], s2, gapPenalty, match)\n",
    "        di += gapPenalty(1) \n",
    "        s1r, s2r, dr = alignmentScoreOutput(s1[1:], s2[1:], gapPenalty, match)\n",
    "        dr += match(s1[0], s2[0])\n",
    "        if dd == max(dd, di, dr):\n",
    "            return '-' + s1d, s2[0] + s2d, dd\n",
    "        elif di == max(dd, di, dr):\n",
    "            return s1[0] + s1i, '-' + s2i, di\n",
    "        elif dr == max(dd, di, dr):\n",
    "            return s1[0] + s1r, (s2[0] if s2[0] == s1[0] else s2[0].lower()) + s2r, dr\n",
    "        else:\n",
    "            assert False\n",
    "            \n",
    "def showAlignment(s1, s2, gapPenalty, match):\n",
    "    r = alignmentScoreOutput(s1, s2, gapPenalty, match)\n",
    "    print (r[0] + \"\\n\" + r[1] + \"\\n\" + str(r[2]))\n",
    "    return r"
   ]
  },
  {
   "cell_type": "code",
   "execution_count": 3,
   "id": "13ec84d0",
   "metadata": {},
   "outputs": [
    {
     "name": "stdout",
     "output_type": "stream",
     "text": [
      "-A-TG\n",
      "GACT-\n",
      "-1\n"
     ]
    },
    {
     "data": {
      "text/plain": [
       "('-A-TG', 'GACT-', -1)"
      ]
     },
     "execution_count": 3,
     "metadata": {},
     "output_type": "execute_result"
    }
   ],
   "source": [
    "showAlignment(\"ATG\", \"GACT\", linearGap, simpleMatch)"
   ]
  },
  {
   "cell_type": "code",
   "execution_count": null,
   "id": "f3429d25",
   "metadata": {},
   "outputs": [],
   "source": [
    "showAlignment(\"TGCAGTCA\", \"ATGCATGCG\", gapPenalty=lambda n: 0, match=simpleMatch)"
   ]
  },
  {
   "cell_type": "code",
   "execution_count": null,
   "id": "9e8061ae",
   "metadata": {},
   "outputs": [],
   "source": [
    "showAlignment(\"TGCAGTCA\", \"ATGCATGCG\", gapPenalty=linearGap, match=lambda a, b: 0)"
   ]
  },
  {
   "cell_type": "code",
   "execution_count": 4,
   "id": "98f3dbcd",
   "metadata": {},
   "outputs": [],
   "source": [
    "import numpy as np\n",
    "\n",
    "def alignmentScoreDP(s1, s2, gapPenalty, match):\n",
    "    m = np.zeros((len(s1) + 1, len(s2) + 1))\n",
    "    m[0, 0] = 0\n",
    "    for i in range(1, len(s1) + 1):\n",
    "        m[i, 0] = gapPenalty(i)\n",
    "    for j in range(1, len(s2) + 1):\n",
    "        m[0, j] = gapPenalty(j)\n",
    "    for i in range(1, len(s1) + 1):\n",
    "        for j in range(1, len(s2) + 1):\n",
    "            m[i, j] = max(gapPenalty(1) + m[i, j - 1],  \n",
    "                          gapPenalty(1) + m[i - 1, j],    \n",
    "                          match(s1[i - 1], s2[j - 1]) + m[i - 1, j - 1]) \n",
    "    return m\n",
    "    \n",
    "def readAlignment(s1, s2, m, gapPenalty, match):\n",
    "    i = len(s1)\n",
    "    j = len(s2)\n",
    "    s1a = \"\"\n",
    "    s2a = \"\" \n",
    "    score = 0\n",
    "    while i > 0 or j > 0:\n",
    "        if i > 0 and j > 0 and m[i, j] == m[i - 1, j - 1] + match(s1[i - 1], s2[j - 1]):\n",
    "            i = i - 1\n",
    "            j = j - 1\n",
    "            score += match(s1[i], s2[j])\n",
    "            s1a = s1[i] + s1a\n",
    "            if s1[i] == s2[j]:\n",
    "                s2a = s2[j] + s2a\n",
    "            else:\n",
    "                s2a = s2[j].lower() + s2a\n",
    "        elif i > 0 and m[i, j] == m[i - 1, j] + gapPenalty(1):\n",
    "            i = i - 1\n",
    "            score += gapPenalty(1)\n",
    "            s1a = s1[i] + s1a\n",
    "            s2a = '-' + s2a\n",
    "        elif j > 0 and m[i, j] == m[i, j - 1] + gapPenalty(1):\n",
    "            j = j - 1\n",
    "            score += gapPenalty(1)\n",
    "            s1a = '-' + s1a\n",
    "            s2a = s2[j] + s2a\n",
    "        else:\n",
    "            assert False\n",
    "    return (s1a, s2a, score)\n",
    "\n",
    "def showAlignment(s1, s2, gapPenalty, match):\n",
    "    m = alignmentScoreDP(s1, s2, gapPenalty, match)\n",
    "    r = readAlignment(s1, s2, m, gapPenalty, match)\n",
    "    print (r[0] + \"\\n\" + r[1] + \"\\n\" + str(r[2]))\n",
    "    return (m, r)"
   ]
  },
  {
   "cell_type": "code",
   "execution_count": 5,
   "id": "4b94107a",
   "metadata": {},
   "outputs": [
    {
     "data": {
      "text/plain": [
       "array([[ 0., -1., -2., -3., -4.],\n",
       "       [-1., -1.,  0., -1., -2.],\n",
       "       [-2., -2., -1., -1.,  0.],\n",
       "       [-3., -1., -2., -2., -1.]])"
      ]
     },
     "execution_count": 5,
     "metadata": {},
     "output_type": "execute_result"
    }
   ],
   "source": [
    "alignmentScoreDP(\"ATG\", \"GACT\", linearGap, simpleMatch)"
   ]
  },
  {
   "cell_type": "code",
   "execution_count": 6,
   "id": "9cce5232",
   "metadata": {},
   "outputs": [
    {
     "name": "stdout",
     "output_type": "stream",
     "text": [
      "G-ATT\n",
      "GCA-T\n",
      "1\n"
     ]
    }
   ],
   "source": [
    "r = showAlignment(\"GATT\", \"GCAT\", linearGap, simpleMatch)"
   ]
  },
  {
   "cell_type": "code",
   "execution_count": 7,
   "id": "653986ec",
   "metadata": {},
   "outputs": [
    {
     "name": "stdout",
     "output_type": "stream",
     "text": [
      "GCA-TGCG\n",
      "G-ATTaCa\n",
      "0\n"
     ]
    }
   ],
   "source": [
    "r = showAlignment(\"GCATGCG\", \"GATTACA\", linearGap, simpleMatch)"
   ]
  },
  {
   "cell_type": "code",
   "execution_count": 8,
   "id": "d8fbde1a",
   "metadata": {},
   "outputs": [
    {
     "name": "stdout",
     "output_type": "stream",
     "text": [
      "GCA-TGCG\n",
      "G-ATTaCa\n",
      "0\n"
     ]
    }
   ],
   "source": [
    "r = showAlignment(\"GCATGCG\", \"GATTACA\", linearGap, simpleMatch)"
   ]
  },
  {
   "cell_type": "code",
   "execution_count": 9,
   "id": "7feb16f7",
   "metadata": {},
   "outputs": [
    {
     "name": "stdout",
     "output_type": "stream",
     "text": [
      "GCATGCG\n",
      "GatTaCa\n",
      "-1\n"
     ]
    }
   ],
   "source": [
    "r = showAlignment(\"GCATGCG\", \"GATTACA\", lambda n: -2 * n, simpleMatch)"
   ]
  },
  {
   "cell_type": "code",
   "execution_count": 10,
   "id": "e74118a6",
   "metadata": {},
   "outputs": [
    {
     "name": "stdout",
     "output_type": "stream",
     "text": [
      "GCA-T-GC-G\n",
      "G-ATTA-CA-\n",
      "4\n"
     ]
    }
   ],
   "source": [
    "r = showAlignment(\"GCATGCG\", \"GATTACA\", lambda n: 0, match = simpleMatch)"
   ]
  },
  {
   "cell_type": "code",
   "execution_count": null,
   "id": "d44bfc46",
   "metadata": {},
   "outputs": [],
   "source": [
    "import numpy as np\n",
    "from itertools import chain\n",
    "\n",
    "def alignmentScoreDPG(s1, s2, gapPenalty, match):\n",
    "    m = np.zeros((len(s1) + 1, len(s2) + 1))\n",
    "    m[0, 0] = 0\n",
    "    for i in range(1, len(s1) + 1):\n",
    "        m[i, 0] = gapPenalty(i)\n",
    "    for j in range(1, len(s2) + 1):\n",
    "        m[0, j] = gapPenalty(j)\n",
    "    for i in range(1, len(s1) + 1):\n",
    "        for j in range(1, len(s2) + 1):         \n",
    "            m[i, j] = max(chain((gapPenalty(g) + m[i, j - g] for g in range(1, j)),\n",
    "                                (gapPenalty(g) + m[i - g, j] for g in range(1, i)),   \n",
    "                                [(match(s1[i - 1], s2[j - 1]) + m[i - 1, j - 1])]))\n",
    "    return m\n",
    "    \n",
    "def readAlignmentG(s1, s2, m, gapPenalty, match):\n",
    "    i = len(s1)\n",
    "    j = len(s2)\n",
    "    s1a = \"\"\n",
    "    s2a = \"\"\n",
    "    score = 0\n",
    "    while i > 0 or j > 0:\n",
    "        if i > 0 and j > 0 and m[i, j] == m[i - 1, j - 1] + match(s1[i - 1], s2[j - 1]):\n",
    "            i = i - 1\n",
    "            j = j - 1\n",
    "            s1a = s1[i] + s1a\n",
    "            s2a = (s2[j] if s1[i] == s2[j] else s2[j].lower()) + s2a\n",
    "            score += match(s1[i], s2[j])\n",
    "        else:\n",
    "            foundit = False\n",
    "            for g in range(1, i + 1):\n",
    "                if m[i, j] == m[i - g, j] + gapPenalty(g):\n",
    "                    s1a = s1[i - g:i] + s1a\n",
    "                    s2a = ('-' * g) + s2a\n",
    "                    i = i - g\n",
    "                    score += gapPenalty(g)\n",
    "                    foundit = True\n",
    "                    break\n",
    "            if not foundit:\n",
    "                for g in range(1, j + 1):\n",
    "                    if m[i, j] == m[i, j - g] + gapPenalty(g):\n",
    "                        s1a = ('-' * g) + s1a\n",
    "                        s2a = s2a[j - g:j] + s2a\n",
    "                        j = j - g\n",
    "                        score += gapPenalty(g)\n",
    "                        foundit = True\n",
    "                        break\n",
    "            assert foundit\n",
    "    return (s1a, s2a, score)\n",
    "\n",
    "def showAlignmentG(s1, s2, gapPenalty, match):\n",
    "    m = alignmentScoreDPG(s1, s2, gapPenalty, match)\n",
    "    r = readAlignmentG(s1, s2, m, gapPenalty, match)\n",
    "    print (r[0] + \"\\n\" + r[1] + \"\\n\" + str(r[2]))\n",
    "    return (m, r)"
   ]
  },
  {
   "cell_type": "code",
   "execution_count": null,
   "id": "3ec03764",
   "metadata": {},
   "outputs": [],
   "source": [
    "def affineGap(n, gp = -1, gn = -0.2):\n",
    "    return gp + (n - 1) * gn"
   ]
  },
  {
   "cell_type": "code",
   "execution_count": null,
   "id": "20dcfae0",
   "metadata": {},
   "outputs": [],
   "source": [
    "r = showAlignment(\"GCATGCG\", \"GATTACA\", linearGap, simpleMatch)"
   ]
  },
  {
   "cell_type": "code",
   "execution_count": null,
   "id": "f6523bab",
   "metadata": {},
   "outputs": [],
   "source": [
    "r = showAlignmentG(\"GCATGCG\", \"GATTACA\", linearGap, simpleMatch)"
   ]
  },
  {
   "cell_type": "code",
   "execution_count": null,
   "id": "9eafb604",
   "metadata": {},
   "outputs": [],
   "source": [
    "r = showAlignment(\"AAAGAATTCA\", \"AAATCA\", linearGap, simpleMatch)"
   ]
  },
  {
   "cell_type": "code",
   "execution_count": null,
   "id": "f10b6c0e",
   "metadata": {},
   "outputs": [],
   "source": [
    "r = showAlignmentG(\"AAAGAATTCA\", \"AAATCA\", linearGap, simpleMatch)"
   ]
  },
  {
   "cell_type": "code",
   "execution_count": null,
   "id": "2e0e8437",
   "metadata": {},
   "outputs": [],
   "source": [
    "r = showAlignmentG(\"AAAGAATTCA\", \"AAATCA\", affineGap, simpleMatch)"
   ]
  },
  {
   "cell_type": "code",
   "execution_count": null,
   "id": "619b1cbe",
   "metadata": {},
   "outputs": [],
   "source": [
    "showAlignment(\"AAAGAATTCA\", \"AAATCA\", linearGap, simpleMatch)"
   ]
  },
  {
   "cell_type": "code",
   "execution_count": null,
   "id": "ee78e95c",
   "metadata": {},
   "outputs": [],
   "source": [
    "# https://www.ncbi.nlm.nih.gov/nuccore/NM_000558.5?report=fasta (human)\n",
    "hemoglobin_s2 = \"ACTCTTCTGGTCCCCACAGACTCAGAGAGAACCCACCATGGTGCTGTCTCCTGCCGACAAGACCAACGTCAAGGCCGCCTGGGGTAAGGTCGGCGCGCACGCTGGCGAGTATGGTGCGGAGGCCCTGGAGAGGATGTTCCTGTCCTTCCCCACCACCAAGACCTACTTCCCGCACTTCGACCTGAGCCACGGCTCTGCCCAGGTTAAGGGCCACGGCAAGAAGGTGGCCGACGCGCTGACCAACGCCGTGGCGCACGTGGACGACATGCCCAACGCGCTGTCCGCCCTGAGCGACCTGCACGCGCACAAGCTTCGGGTGGACCCGGTCAACTTCAAGCTCCTAAGCCACTGCCTGCTGGTGACCCTGGCCGCCCACCTCCCCGCCGAGTTCACCCCTGCGGTGCACGCCTCCCTGGACAAGTTCCTGGCTTCTGTGAGCACCGTGCTGACCTCCAAATACCGTTAAGCTGGAGCCTCGGTGGCCATGCTTCTTGCCCCTTGGGCCTCCCCCCAGCCCCTCCTCCCCTTCCTGCACCCGTACCCCCGTGGTCTTTGAATAAAGTCTGAGTGGGCGGCA\""
   ]
  },
  {
   "cell_type": "code",
   "execution_count": null,
   "id": "8a443b8d",
   "metadata": {},
   "outputs": [],
   "source": [
    "# https://www.ncbi.nlm.nih.gov/nuccore/NM_001042626.1?report=fasta (troglodytes)\n",
    "hemoglobin_s1 = \"ACTCTTCTGGTCCCCACAGACTCAGAAAGAACCCACCATGGTGCTGTCTCCTGCCGACAAGACCAACGTCAAGGCCGCCTGGGGTAAGGTCGGCGCGCACGCTGGCGAGTATGGTGCGGAGGCCCTGGAGAGGATGTTCCTGTCCTTCCCCACCACCAAGACCTACTTCCCCCACTTCGACCTGAGCCACGGCTCTGCCCAGGTTAAGGGTCACGGCAAGAAGGTGGCCGACGCGCTGACCAACGCCGTGGCGCACGTGGACGACATGCCCAACGCGCTGTCCGCCCTGAGTGACCTGCACGCGCACAAGCTTCGGGTGGACCCGGTCAACTTCAAGCTCCTAAGCCACTGCCTGCTGGTGACCCTGGCCGCCCACCTCCCCGCCGAGTTCACCCCTGCGGTGCACGCCTCCCTGGACAAGTTCCTGGCTTCTGTGAGCACCGTGCTGACCTCCAAATACCGTTAAGCTGGAGCCTCGGTGGCCATGCTTCTTGCCCCTTGGGCCTCTCGCCAGGCCCTCCTCTCCTTCCTGCACCTGTACCCCCCCTGGTCTTTGAATAAAGTCTGAGTGGGCGGC\""
   ]
  },
  {
   "cell_type": "code",
   "execution_count": null,
   "id": "ced0973e",
   "metadata": {},
   "outputs": [],
   "source": [
    "# https://www.ncbi.nlm.nih.gov/nuccore/XM_045784453.1?report=fasta (ursus)\n",
    "hemoglobin_s3 = \"AAATGCTGGCGCACTCCCCGCCCCGCACATTTCTGGTCCTCACAGACTCAGAAAGAAGCCACCATGGTGCTGTCTCCCGCCGACAAGAGCAACGTCAAGGCCACCTGGGATAAGATTGGCAGCCACGCTGGCGAGTATGGCGGCGAGGCTCTGGAGAGGACCTTCGCGTCCTTCCCCACCACCAAGACCTACTTCCCCCACTTCGACCTGAGCCCTGGCTCCGCCCAGGTCAAGGCCCACGGCAAGAAGGTGGCCGACGCCCTGACCACCGCCGCGGGCCACCTGGACGACCTGCCGGGCGCCCTGTCCGCTCTGAGCGACCTGCACGCGCACAAGCTGCGAGTGGACCCGGTCAACTTCAAGTTCCTGAGCCACTGCCTGCTGGTGACCCTGGCCAGCCACCACCCCGCGGAGTTCACCCCTGCCGTCCACGCCTCCCTGGACAAGTTCTTCAGCGCCGTGAGCACCGTGCTCACCTCCAAATACCGTTAAGCTGGAGCCGCGCGACCCTCCCGCTCCCGGCCTGGGGCCTCTTGCGCTCCGCGCACCTGAACTTCCCGATCTTTGAATAAAGTCTGAGTGGGCTGCA\""
   ]
  },
  {
   "cell_type": "code",
   "execution_count": null,
   "id": "8dfd4b52",
   "metadata": {},
   "outputs": [],
   "source": [
    "_ = showAlignmentG(hemoglobin_s1, hemoglobin_s2, affineGap, distanceMatch)"
   ]
  },
  {
   "cell_type": "code",
   "execution_count": null,
   "id": "c21925cd",
   "metadata": {},
   "outputs": [],
   "source": [
    "_ = showAlignmentG(hemoglobin_s1, hemoglobin_s3, affineGap, distanceMatch)"
   ]
  },
  {
   "cell_type": "code",
   "execution_count": null,
   "id": "c912cc94",
   "metadata": {},
   "outputs": [],
   "source": [
    "_ = showAlignmentG(hemoglobin_s2, hemoglobin_s3, affineGap, distanceMatch)"
   ]
  },
  {
   "cell_type": "code",
   "execution_count": null,
   "id": "7fe3ba1e",
   "metadata": {},
   "outputs": [],
   "source": []
  }
 ],
 "metadata": {
  "kernelspec": {
   "display_name": "Python 3",
   "language": "python",
   "name": "python3"
  },
  "language_info": {
   "codemirror_mode": {
    "name": "ipython",
    "version": 3
   },
   "file_extension": ".py",
   "mimetype": "text/x-python",
   "name": "python",
   "nbconvert_exporter": "python",
   "pygments_lexer": "ipython3",
   "version": "3.8.8"
  }
 },
 "nbformat": 4,
 "nbformat_minor": 5
}
